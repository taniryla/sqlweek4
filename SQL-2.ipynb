{
 "cells": [
  {
   "cell_type": "code",
   "execution_count": null,
   "metadata": {},
   "outputs": [],
   "source": [
    "import sqlite3\n",
    "import pandas as pd\n",
    "import numpy as np\n",
    "import matplotlib.pyplot as plt\n",
    "\n",
    "con = sqlite3.connect('sakila.db')\n",
    "\n",
    "def sql_to_df(sql_query):\n",
    "    df = pd.read_sql(sql_query, con)\n",
    "    return df"
   ]
  },
  {
   "cell_type": "code",
   "execution_count": null,
   "metadata": {},
   "outputs": [],
   "source": [
    "query = '''\n",
    "  SELECT\n",
    "    strftime('%Y-%m', payment_date) AS Date, ROUND(SUM(amount), 0) AS Sales\n",
    "    FROM payment\n",
    "    GROUP BY date\n",
    "    ORDER BY Date ASC;\n",
    "'''\n",
    "\n",
    "sales_per_month = sql_to_df(query)\n",
    "sales_per_month"
   ]
  },
  {
   "cell_type": "code",
   "execution_count": null,
   "metadata": {},
   "outputs": [],
   "source": [
    "sales_per_month = sales_per_month.set_index(\"Date\")\n",
    "sales_per_month.plot()"
   ]
  },
  {
   "cell_type": "code",
   "execution_count": null,
   "metadata": {},
   "outputs": [],
   "source": [
    "sales_per_month = sales_per_month.iloc[0:4]\n",
    "sales_per_month.plot()"
   ]
  },
  {
   "cell_type": "code",
   "execution_count": null,
   "metadata": {},
   "outputs": [],
   "source": [
    "fig, ax = plt.subplots(figsize=(10, 5))\n",
    "ax.plot(sales_per_month, \"bo-\")\n",
    "ax.set_title(\"Sales Per Month\")\n",
    "ax.set_ylabel(\"Sales\")\n",
    "for date, sales in sales_per_month[\"Sales\"].items():\n",
    "  ax.annotate(str(\"${:,.0f}\".format(sales)),\n",
    "    xy=(date, sales+1000),\n",
    "    fontweight=\"semibold\",\n",
    "    fontsize=12)\n",
    "\n",
    "plt.show()"
   ]
  },
  {
   "cell_type": "code",
   "execution_count": null,
   "metadata": {},
   "outputs": [],
   "source": [
    "query = '''\n",
    "    SELECT\n",
    "        cat.name category_name,\n",
    "        sum( IFNULL(pay.amount, 0) ) revenue\n",
    "    FROM category cat\n",
    "    LEFT JOIN film_category flm_cat\n",
    "    ON cat.category_id = flm_cat.category_id\n",
    "    LEFT JOIN film fil\n",
    "    ON flm_cat.film_id = fil.film_id\n",
    "    LEFT JOIN inventory inv\n",
    "    ON fil.film_id = inv.film_id\n",
    "    LEFT JOIN rental ren\n",
    "    ON inv.inventory_id = ren.inventory_id\n",
    "    LEFT JOIN payment pay\n",
    "    ON ren.rental_id = pay.rental_id\n",
    "    GROUP BY cat.name\n",
    "    ORDER BY revenue DESC\n",
    "    limit 5;\n",
    "'''\n",
    "\n",
    "categories_by_gross = sql_to_df(query)\n",
    "categories_by_gross\n",
    "\n",
    "fig, ax = plt.subplots(figsize=(10, 5))\n",
    "\n",
    "ypos = np.arange(len(categories_by_gross[\"revenue\"]))\n",
    "bars = ax.bar(ypos, categories_by_gross[\"revenue\"].round(3), width=0.50)\n",
    "ax.set_xticks(ypos)\n",
    "ax.set_xticklabels(categories_by_gross[\"category_name\"])\n",
    "ax.set_ylim(ymin=3000, ymax=6000)\n",
    "ax.set_title(\"gross by category\", fontsize=14)\n",
    "ax.set_ylabel(\"gross sales\", fontsize=12)\n",
    "\n",
    "for bar in bars:  # add data labels\n",
    "    height = bar.get_height()\n",
    "    ax.annotate(f\"{height}\",\n",
    "                xy=(bar.get_x() + bar.get_width() / 2, height),\n",
    "                xytext=(0, 3),  # 3 points vertical offset\n",
    "                textcoords=\"offset points\",\n",
    "                ha=\"center\", va=\"bottom\",\n",
    "                fontweight=\"semibold\")\n",
    "\n",
    "plt.show()"
   ]
  },
  {
   "cell_type": "code",
   "execution_count": null,
   "metadata": {},
   "outputs": [],
   "source": [
    "explode = np.zeros(len(categories_by_gross[\"category_name\"]))\n",
    "explode[0] = 0.1\n",
    "print(explode)\n",
    "\n",
    "fig, ax = plt.subplots()\n",
    "ax.pie(categories_by_gross[\"revenue\"].round(3), explode=explode, labels=categories_by_gross[\"category_name\"],\n",
    "      autopct='%1.1f%%', shadow=True, startangle=90)\n",
    "ax.axis('equal') #equal aspect ratio ensures that the pie is drawn as a circle\n",
    "\n",
    "plt.show()"
   ]
  }
 ],
 "metadata": {
  "language_info": {
   "name": "python"
  },
  "orig_nbformat": 4
 },
 "nbformat": 4,
 "nbformat_minor": 2
}
