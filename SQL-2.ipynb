{
 "cells": [
  {
   "cell_type": "code",
   "execution_count": null,
   "metadata": {},
   "outputs": [],
   "source": [
    "import sqlite3\n",
    "import pandas as pd\n",
    "import numpy as np\n",
    "import matplotlib.pyplot as plt\n",
    "\n",
    "con = sqlite3.connect('sakila.db')\n",
    "\n",
    "def sql_to_df(sql_query):\n",
    "    df = pd.read_sql(sql_query, con)\n",
    "    return df"
   ]
  },
  {
   "cell_type": "code",
   "execution_count": null,
   "metadata": {},
   "outputs": [],
   "source": [
    "query = '''\n",
    "  SELECT\n",
    "    strftime('%Y-%m', payment_date) AS Date, ROUND(SUM(amount), 0) AS Sales\n",
    "    FROM payment\n",
    "    GROUP BY date\n",
    "    ORDER BY Date ASC;\n",
    "'''\n",
    "\n",
    "sales_per_month = sql_to_df(query)\n",
    "sales_per_month"
   ]
  }
 ],
 "metadata": {
  "language_info": {
   "name": "python"
  },
  "orig_nbformat": 4
 },
 "nbformat": 4,
 "nbformat_minor": 2
}
