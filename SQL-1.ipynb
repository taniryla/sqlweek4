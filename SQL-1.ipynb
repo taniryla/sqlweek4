{
 "cells": [
  {
   "cell_type": "code",
   "execution_count": null,
   "metadata": {},
   "outputs": [],
   "source": [
    "import sqlite3\n",
    "import pandas as pd"
   ]
  },
  {
   "cell_type": "code",
   "execution_count": null,
   "metadata": {},
   "outputs": [],
   "source": [
    "con = sqlite3.connect('sakila.db')"
   ]
  },
  {
   "cell_type": "code",
   "execution_count": null,
   "metadata": {},
   "outputs": [],
   "source": [
    "def sql_to_df(sql_query):\n",
    "  df = pd.read_sql(sql_query, con)\n",
    "  return df"
   ]
  },
  {
   "cell_type": "code",
   "execution_count": null,
   "metadata": {},
   "outputs": [],
   "source": [
    "query = '''\n",
    "  SELECT *\n",
    "  FROM sqlite_master\n",
    "  WHERE type = 'table'\n",
    "'''\n",
    "\n",
    "tables = sql_to_df(query)\n",
    "tables"
   ]
  },
  {
   "cell_type": "code",
   "execution_count": null,
   "metadata": {},
   "outputs": [],
   "source": [
    "query = '''\n",
    "  SELECT first_name, last_name\n",
    "  FROM customer\n",
    "'''\n",
    "\n",
    "customer_names = sql_to_df(query)\n",
    "customer_names"
   ]
  },
  {
   "cell_type": "code",
   "execution_count": null,
   "metadata": {},
   "outputs": [],
   "source": [
    "print(customer_names.head())"
   ]
  },
  {
   "cell_type": "code",
   "execution_count": null,
   "metadata": {},
   "outputs": [],
   "source": [
    "print(customer_names.tail())"
   ]
  },
  {
   "cell_type": "code",
   "execution_count": null,
   "metadata": {},
   "outputs": [],
   "source": [
    "print(customer_names.describe())"
   ]
  },
  {
   "cell_type": "code",
   "execution_count": null,
   "metadata": {},
   "outputs": [],
   "source": [
    "print(customer_names.info())"
   ]
  },
  {
   "cell_type": "code",
   "execution_count": null,
   "metadata": {},
   "outputs": [],
   "source": [
    "query = '''\n",
    "  SELECT *\n",
    "  FROM film\n",
    "  WHERE description\n",
    "  LIKE '%Pastry%'\n",
    "'''\n",
    "\n",
    "pastry_films = sql_to_df(query)\n",
    "pastry_films"
   ]
  },
  {
   "cell_type": "code",
   "execution_count": null,
   "metadata": {},
   "outputs": [],
   "source": [
    "query = '''\n",
    "  SELECT \n",
    "    COUNT(title) AS Count,\n",
    "    rating\n",
    "  FROM film\n",
    "  WHERE description\n",
    "  LIKE '%Pastry%'\n",
    "  GROUP BY rating\n",
    "  ORDER BY Count DESC;\n",
    "'''\n",
    "\n",
    "pastry_films_by_rating = sql_to_df(query)\n",
    "pastry_films_by_rating"
   ]
  },
  {
   "cell_type": "code",
   "execution_count": null,
   "metadata": {},
   "outputs": [],
   "source": [
    "pastry_films_by_rating.hist(column='Count', grid=False)"
   ]
  }
 ],
 "metadata": {
  "language_info": {
   "name": "python"
  },
  "orig_nbformat": 4
 },
 "nbformat": 4,
 "nbformat_minor": 2
}
